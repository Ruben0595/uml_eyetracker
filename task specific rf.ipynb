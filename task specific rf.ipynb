{
 "cells": [
  {
   "cell_type": "code",
   "execution_count": 2,
   "metadata": {},
   "outputs": [],
   "source": [
    "import pandas as pd\n",
    "import numpy as np\n",
    "import os\n",
    "from sklearn.ensemble import RandomForestClassifier\n",
    "from sklearn import metrics\n",
    "from sklearn.metrics import classification_report, confusion_matrix, accuracy_score, cohen_kappa_score, f1_score\n",
    "import seaborn as sns\n",
    "from sklearn.model_selection import train_test_split\n",
    "import matplotlib.pyplot as plt\n",
    "import scipy"
   ]
  },
  {
   "cell_type": "code",
   "execution_count": 328,
   "metadata": {},
   "outputs": [],
   "source": [
    "def data_balancer(x, y):\n",
    "\n",
    "    tmp_y = np.squeeze(y)\n",
    "    tmp_y = np.concatenate(tmp_y)\n",
    "    ulbls = np.unique(tmp_y)\n",
    "    hists = np.zeros((len(x), len(ulbls)))\n",
    "    \n",
    "    # for each recording\n",
    "    for r in range(len(x)):\n",
    "\n",
    "        # for each class\n",
    "        for c in range(0,len(ulbls)):\n",
    "            count_c = len(np.where(y[r]==c)[0])\n",
    "            hists[r, c] = count_c\n",
    "            \n",
    "    all_counts = np.sum(hists, axis=0)\n",
    "\n",
    "    min_count = np.min(all_counts)\n",
    "\n",
    "    # for each event\n",
    "    for c in range(0,len(ulbls)):\n",
    "        #divide$&conqure resampling\n",
    "        delection_counts = np.array(hists[:, c])\n",
    "        goal_diff = all_counts[c] - min_count\n",
    "        # delection_counts = np.zeros(len(hists[:,0]))\n",
    "\n",
    "        remain = min_count\n",
    "        while True:\n",
    "\n",
    "            record_extract_factor = np.round(remain / len(np.where(delection_counts > 0)[0]))\n",
    "            # record_extract_factor = goal_diff\n",
    "            delection_counts[np.where(delection_counts>0)] -= record_extract_factor\n",
    "\n",
    "            if len(np.where(delection_counts < 0)[0]) == 0:\n",
    "                hists[:, c] -= delection_counts  # subtract the number to be erased\n",
    "                break\n",
    "            else:\n",
    "                remain = np.sum(np.abs(delection_counts[np.where(delection_counts<0)]))\n",
    "                delection_counts[np.where(delection_counts<0)] = 0\n",
    "\n",
    "\n",
    "    #remove samples            \n",
    "    for c in range(0,len(ulbls)): #each class\n",
    "        for r in range(len(x)):  #each recordings\n",
    "            count = hists[r, c]\n",
    "            rmInd = np.where(y[r]==c)[0]\n",
    "            y[r] = np.delete(y[r], rmInd[int(count):])\n",
    "            x[r] = np.delete(x[r], rmInd[int(count):], axis=0)\n",
    "\n",
    "    return x, y"
   ]
  },
  {
   "cell_type": "code",
   "execution_count": 346,
   "metadata": {},
   "outputs": [
    {
     "name": "stdout",
     "output_type": "stream",
     "text": [
      "lbls_p17_a1.csv\n",
      "          0         1         2         3         4          5  labels\n",
      "0  3.278123 -1.624985  0.396563  0.001322  0.314196  86.355964     1.0\n",
      "1  0.093665 -0.572364  0.454985  0.001517  0.327796  76.068244     1.0\n",
      "2  2.457601  1.422330  0.495169  0.001651  0.338715  66.767690     1.0\n",
      "3  5.767412  1.489018  0.518888  0.001730  0.347162  58.409872     1.0\n",
      "4  0.994380 -1.608572  0.527917  0.001760  0.353345  50.950359     1.0\n",
      "lbls_p3_a1.csv\n",
      "          0         1         2         3         4           5  labels\n",
      "0  0.074567  1.289267  0.195754 -0.000653  0.277188   86.806468     1.0\n",
      "1  0.049373 -2.347935  0.248609 -0.000829  0.277927   97.867251     1.0\n",
      "2  0.032138 -0.039232  0.291624 -0.000972  0.278136  106.201969     1.0\n",
      "3  0.081641  0.098260  0.325607 -0.001085  0.277846  112.026939     1.0\n",
      "4  0.085749  0.402918  0.351368 -0.001171  0.277086  115.558480     1.0\n",
      "lbls_p1_a1.csv\n",
      "          0         1         2         3         4           5  labels\n",
      "0  0.267995 -1.320911  0.238961 -0.000794  0.338397  123.372004     1.0\n",
      "1  0.093320  0.995632  0.225125 -0.000744  0.346226  118.949284     1.0\n",
      "2  0.145561 -1.335852  0.210917 -0.000695  0.352644  115.011404     1.0\n",
      "3  0.212677  0.477669  0.196434 -0.000645  0.357778  111.527003     1.0\n",
      "4  0.648050  0.992198  0.181769 -0.000596  0.361757  108.464719     1.0\n",
      "lbls_p8_a1.csv\n",
      "          0         1         2         3         4           5  labels\n",
      "0  0.282466  0.364419  0.414923 -0.001383  0.836213  136.634247     1.0\n",
      "1  0.659669 -0.279027  0.398879 -0.001327  0.804816  136.845517     1.0\n",
      "2  0.715216 -0.351569  0.384328 -0.001277  0.780559  137.010101     1.0\n",
      "3  0.215727  0.330582  0.371158 -0.001232  0.762947  137.138311     1.0\n",
      "4  1.436766 -0.801181  0.359261 -0.001192  0.751484  137.240461     1.0\n",
      "lbls_p22_a1.csv\n",
      "           0         1         2         3         4           5  labels\n",
      "0  12.587728  2.195679  1.150293 -0.003834  0.533096  202.524081     0.0\n",
      "1  21.811657  2.120276  1.318503 -0.004395  0.680259  213.960146     0.0\n",
      "2  19.023592 -1.158216  1.453144 -0.004844  0.798517  221.252869     0.0\n",
      "3  24.530228  2.094423  1.556849 -0.005189  0.890205  224.747044     0.0\n",
      "4  16.650191  2.341597  1.632254 -0.005441  0.957663  224.787466     0.0\n",
      "lbls_p18_a1.csv\n",
      "          0         1         2         3         4         5  labels\n",
      "0  0.333845 -1.840618  0.645900  0.002153  0.314839  3.697633     1.0\n",
      "1  0.265381 -2.811336  0.666999  0.002223  0.314565  4.029441     1.0\n",
      "2  0.230451 -1.913309  0.681747  0.002272  0.313632  4.252863     1.0\n",
      "3  0.227772  2.641078  0.690782  0.002303  0.312151  4.383869     1.0\n",
      "4  0.498829  2.342227  0.694748  0.002316  0.310234  4.438427     1.0\n",
      "lbls_p6_a1.csv\n",
      "           0         1         2         3         4          5  labels\n",
      "0  22.281932  2.121924  0.012970 -0.000043  0.304275  29.372578     0.0\n",
      "1  50.583740 -1.612207  0.044945  0.000158  0.269738  29.097417     0.0\n",
      "2  41.699358  1.404853  0.069478  0.000309  0.247669  28.899938     0.0\n",
      "3   2.602005  0.437730  0.087296  0.000415  0.236809  28.769969     0.0\n",
      "4  44.811485 -1.716587  0.099127  0.000480  0.235900  28.697337     0.0\n",
      "lbls_p2_a1.csv\n",
      "           0         1         2         3         4          5  labels\n",
      "0  34.659346  1.490447  0.305231  0.001017  0.159718  67.350637     0.0\n",
      "1  21.849530 -1.325715  0.298118  0.000994  0.184964  68.819589     0.0\n",
      "2  12.810969  0.428127  0.292999  0.000977  0.203756  69.468525     0.0\n",
      "3  25.246776  1.193755  0.289889  0.000966  0.216702  69.365924     0.0\n",
      "4  31.674685 -1.595519  0.288800  0.000963  0.224410  68.580270     0.0\n"
     ]
    },
    {
     "name": "stderr",
     "output_type": "stream",
     "text": [
      "/Users/rubenotter/opt/anaconda3/envs/eye_movement/lib/python3.8/site-packages/numpy/core/fromnumeric.py:43: VisibleDeprecationWarning: Creating an ndarray from ragged nested sequences (which is a list-or-tuple of lists-or-tuples-or ndarrays with different lengths or shapes) is deprecated. If you meant to do this, you must specify 'dtype=object' when creating the ndarray.\n",
      "  result = getattr(asarray(obj), method)(*args, **kwds)\n"
     ]
    }
   ],
   "source": [
    "path = './data/feats_lbls/lblr5/'\n",
    "df = pd.DataFrame()\n",
    "ds_x = []\n",
    "ds_y = []\n",
    "for filename in os.listdir(path):\n",
    "    if filename.startswith('lbls') and filename[-5] == '1':\n",
    "        print(filename)\n",
    "        df1 = pd.read_csv(path+ 'feats' + filename[4:], header = None)\n",
    "        df1['labels'] = pd.read_csv(path+ 'lbls' + filename[4:], header = None)\n",
    "\n",
    "        #df1 = df1[df1.labels != 1.0]\n",
    "        #df1.labels = df1.labels.replace(3.0, 1.0)\n",
    "        print(df1.head())\n",
    "        feat = df1.drop('labels', axis = 1)\n",
    "        lbls = df1.labels\n",
    "\n",
    "        ds_y.append(lbls.values)\n",
    "        ds_x.append(feat.values)\n",
    "\n",
    "ds_x, ds_y = data_balancer(ds_x, ds_y)\n",
    "\n",
    "ds_x = np.squeeze(ds_x)\n",
    "ds_x = np.concatenate(ds_x)\n",
    "\n",
    "ds_y = np.squeeze(ds_y)\n",
    "ds_y = np.concatenate(ds_y)\n",
    "\n"
   ]
  },
  {
   "cell_type": "code",
   "execution_count": 3,
   "metadata": {},
   "outputs": [
    {
     "name": "stdout",
     "output_type": "stream",
     "text": [
      "lbls_p18_a4.csv\n"
     ]
    }
   ],
   "source": [
    "path = './data/feats_lbls/lblr6/'\n",
    "df = pd.DataFrame()\n",
    "for filename in os.listdir(path):\n",
    "    if filename.startswith('lbls') and filename[-5] == '4':\n",
    "        print(filename)\n",
    "        file_df = pd.read_csv(path+ 'feats' + filename[4:], header = None)\n",
    "        file_df['label'] = pd.read_csv(path+ 'lbls' + filename[4:], header = None)\n",
    "        df= pd.concat([df, file_df])"
   ]
  },
  {
   "cell_type": "code",
   "execution_count": 347,
   "metadata": {},
   "outputs": [
    {
     "name": "stdout",
     "output_type": "stream",
     "text": [
      "sum of each label in all Indoor walk files:\n"
     ]
    },
    {
     "ename": "AttributeError",
     "evalue": "'DataFrame' object has no attribute 'label'",
     "output_type": "error",
     "traceback": [
      "\u001b[0;31m---------------------------------------------------------------------------\u001b[0m",
      "\u001b[0;31mAttributeError\u001b[0m                            Traceback (most recent call last)",
      "Cell \u001b[0;32mIn [347], line 3\u001b[0m\n\u001b[1;32m      1\u001b[0m \u001b[39mprint\u001b[39m(\u001b[39m'\u001b[39m\u001b[39msum of each label in all Indoor walk files:\u001b[39m\u001b[39m'\u001b[39m)\n\u001b[1;32m      2\u001b[0m \u001b[39m#df = df[df.label != 3.0]\u001b[39;00m\n\u001b[0;32m----> 3\u001b[0m df\u001b[39m.\u001b[39;49mlabel\u001b[39m.\u001b[39mvalue_counts()\n",
      "File \u001b[0;32m~/opt/anaconda3/envs/eye_movement/lib/python3.8/site-packages/pandas/core/generic.py:5902\u001b[0m, in \u001b[0;36mNDFrame.__getattr__\u001b[0;34m(self, name)\u001b[0m\n\u001b[1;32m   5895\u001b[0m \u001b[39mif\u001b[39;00m (\n\u001b[1;32m   5896\u001b[0m     name \u001b[39mnot\u001b[39;00m \u001b[39min\u001b[39;00m \u001b[39mself\u001b[39m\u001b[39m.\u001b[39m_internal_names_set\n\u001b[1;32m   5897\u001b[0m     \u001b[39mand\u001b[39;00m name \u001b[39mnot\u001b[39;00m \u001b[39min\u001b[39;00m \u001b[39mself\u001b[39m\u001b[39m.\u001b[39m_metadata\n\u001b[1;32m   5898\u001b[0m     \u001b[39mand\u001b[39;00m name \u001b[39mnot\u001b[39;00m \u001b[39min\u001b[39;00m \u001b[39mself\u001b[39m\u001b[39m.\u001b[39m_accessors\n\u001b[1;32m   5899\u001b[0m     \u001b[39mand\u001b[39;00m \u001b[39mself\u001b[39m\u001b[39m.\u001b[39m_info_axis\u001b[39m.\u001b[39m_can_hold_identifiers_and_holds_name(name)\n\u001b[1;32m   5900\u001b[0m ):\n\u001b[1;32m   5901\u001b[0m     \u001b[39mreturn\u001b[39;00m \u001b[39mself\u001b[39m[name]\n\u001b[0;32m-> 5902\u001b[0m \u001b[39mreturn\u001b[39;00m \u001b[39mobject\u001b[39;49m\u001b[39m.\u001b[39;49m\u001b[39m__getattribute__\u001b[39;49m(\u001b[39mself\u001b[39;49m, name)\n",
      "\u001b[0;31mAttributeError\u001b[0m: 'DataFrame' object has no attribute 'label'"
     ]
    }
   ],
   "source": [
    "print('sum of each label in all Indoor walk files:')\n",
    "#df = df[df.label != 3.0]\n",
    "df.label.value_counts()"
   ]
  },
  {
   "cell_type": "code",
   "execution_count": 348,
   "metadata": {},
   "outputs": [],
   "source": [
    "from imblearn.under_sampling import RandomUnderSampler\n",
    "undersample = RandomUnderSampler(sampling_strategy='auto')\n",
    "#features, labels = undersample.fit_resample(df.drop('label', axis = 1), df.label)\n",
    "#features, labels = df.drop('label', axis = 1), df.label\n",
    "features, labels = ds_x, ds_y"
   ]
  },
  {
   "cell_type": "code",
   "execution_count": 349,
   "metadata": {},
   "outputs": [],
   "source": [
    "X_train, X_test, y_train, y_test = train_test_split(features, labels, test_size=0.2)\n",
    "#y_train=y_train.values.ravel()\n",
    "#y_test=y_test.values.ravel()"
   ]
  },
  {
   "cell_type": "code",
   "execution_count": 351,
   "metadata": {},
   "outputs": [
    {
     "name": "stdout",
     "output_type": "stream",
     "text": [
      " f1:  0.82580787271563\n",
      "              precision    recall  f1-score   support\n",
      "\n",
      "         0.0       0.82      0.83      0.83     10718\n",
      "         1.0       0.83      0.82      0.83     10908\n",
      "\n",
      "    accuracy                           0.83     21626\n",
      "   macro avg       0.83      0.83      0.83     21626\n",
      "weighted avg       0.83      0.83      0.83     21626\n",
      "\n"
     ]
    },
    {
     "data": {
      "text/plain": [
       "Text(0.5, 1.0, 'indoor walk, labeler 5, D&C undersamling')"
      ]
     },
     "execution_count": 351,
     "metadata": {},
     "output_type": "execute_result"
    },
    {
     "data": {
      "image/png": "[encoded data removed]",
      "text/plain": [
       "<Figure size 640x480 with 2 Axes>"
      ]
     },
     "metadata": {},
     "output_type": "display_data"
    }
   ],
   "source": [
    "clf= RandomForestClassifier(n_jobs = -1)\n",
    "\n",
    "#Train the model using the training sets y_pred=clf.predict(X_test)\n",
    "clf.fit(X_train,y_train)\n",
    "\n",
    "y_pred=clf.predict(X_test)\n",
    "\n",
    "accuracy = []\n",
    "false_negatives = []\n",
    "\n",
    "print(\" f1: \",metrics.f1_score(y_test, y_pred, average = 'macro'))\n",
    "\n",
    "print(classification_report(y_test, y_pred))\n",
    "plt.clf()\n",
    "ax = sns.heatmap(confusion_matrix(y_test, y_pred), annot=True, cmap='Blues')\n",
    "\n",
    "ax.set_ylabel('\\nPredicted Values')\n",
    "ax.set_xlabel('Actual Values ')\n",
    "ax.set_title('indoor walk, labeler 5, D&C undersamling')"
   ]
  }
 ],
 "metadata": {
  "kernelspec": {
   "display_name": "Python 3.8.13 ('eye_movement')",
   "language": "python",
   "name": "python3"
  },
  "language_info": {
   "codemirror_mode": {
    "name": "ipython",
    "version": 3
   },
   "file_extension": ".py",
   "mimetype": "text/x-python",
   "name": "python",
   "nbconvert_exporter": "python",
   "pygments_lexer": "ipython3",
   "version": "3.8.13 (default, Oct 19 2022, 17:52:09) \n[Clang 12.0.0 ]"
  },
  "orig_nbformat": 4,
  "vscode": {
   "interpreter": {
    "hash": "08e1f31826e6e87a110bd470be0d531420b8587399cc6eccead10679433faceb"
   }
  }
 },
 "nbformat": 4,
 "nbformat_minor": 2
}

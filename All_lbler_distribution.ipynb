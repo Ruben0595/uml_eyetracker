{
 "cells": [
  {
   "cell_type": "code",
   "execution_count": 89,
   "metadata": {},
   "outputs": [],
   "source": [
    "import math\n",
    "import os\n",
    "import scipy\n",
    "import numpy as np"
   ]
  },
  {
   "cell_type": "code",
   "execution_count": 91,
   "metadata": {},
   "outputs": [],
   "source": [
    "all_dicts = {\n",
    "    'Ball_Catch' : {'f': 484872, 'gp': 117256, 's': 93148, 'gf': 3813},\n",
    "    'Indoor_Walk' : {'f': 15331, 'gp': 1241, 's': 124930, 'gf': 801797},\n",
    "    'Tea_Making' : {'f': 45732, 'gp': 407, 's': 12073, 'gf': 44187},\n",
    "    'Visual_Search' : {'f': 8233, 'gp': 75, 's': 81241, 'gf': 304489}\n",
    "    }"
   ]
  },
  {
   "cell_type": "code",
   "execution_count": 92,
   "metadata": {},
   "outputs": [
    {
     "data": {
      "text/plain": [
       "{'f': 554168, 'gp': 118979, 's': 311392, 'gf': 1154286}"
      ]
     },
     "execution_count": 92,
     "metadata": {},
     "output_type": "execute_result"
    }
   ],
   "source": [
    "tasks = ['Ball_Catch', 'Indoor_Walk', 'Tea_Making', 'Visual_Search']\n",
    "totals = {'f': 0, 'gp': 0, 's': 0, 'gf': 0}\n",
    "\n",
    "for task in tasks:\n",
    "    totals['f'] += all_dicts[task]['f']\n",
    "    totals['gp'] += all_dicts[task]['gp']\n",
    "    totals['s'] += all_dicts[task]['s']\n",
    "    totals['gf'] += all_dicts[task]['gf']\n",
    "\n",
    "totals"
   ]
  },
  {
   "cell_type": "code",
   "execution_count": 93,
   "metadata": {},
   "outputs": [
    {
     "name": "stdout",
     "output_type": "stream",
     "text": [
      "amount of frames we need of each event:  118979\n",
      "amount of frames we need of each event of each task:  29744\n"
     ]
    }
   ],
   "source": [
    "#find how many frames we need from each event\n",
    "print('amount of frames we need of each event: ' , min(totals.values()))\n",
    "print('amount of frames we need of each event of each task: ' , math.floor((min(totals.values())/4)))"
   ]
  },
  {
   "cell_type": "code",
   "execution_count": 94,
   "metadata": {},
   "outputs": [
    {
     "name": "stdout",
     "output_type": "stream",
     "text": [
      "{'Ball_Catch': {'1': 4250, '2': 4250, '3': 14872, '5': 1750, '6': 1983}, 'Indoor_Walk': {'1': 4250, '2': 4250, '3': 14872, '5': 1750, '6': 1983}, 'Tea_Making': {'1': 4250, '2': 4250, '3': 14872, '5': 1750, '6': 1983}, 'Visual_Search': {'1': 4250, '2': 4250, '3': 14872, '5': 1750, '6': 1983}}\n"
     ]
    }
   ],
   "source": [
    "labelers= {'1':0, '2':0, '3':0, '5':0, '6':0}\n",
    "frames = {'1':0, '2':0, '3':0, '5':0, '6':0}\n",
    "task_dict = {'Ball_Catch' : labelers, 'Indoor_Walk': labelers, 'Tea_Making': labelers, 'Visual_Search': labelers}\n",
    "frames_per_file_per_task_per_event = {'Ball_Catch' : frames, 'Indoor_Walk': frames, 'Tea_Making': frames, 'Visual_Search': frames}\n",
    "for task in tasks:\n",
    "    path = './data/Extracted_Data/%s/Labels/'%task\n",
    "    for filename in os.listdir(path):\n",
    "        task_dict[task][filename[-5]] += 1\n",
    "        frames_per_file_per_task_per_event[task][filename[-5]] = math.ceil(29744/(task_dict[task][filename[-5]]))\n",
    "\n",
    "print(frames_per_file_per_task_per_event)\n"
   ]
  },
  {
   "cell_type": "code",
   "execution_count": 95,
   "metadata": {},
   "outputs": [],
   "source": [
    "\n",
    "all_labelers = False\n",
    "tasks = ['Visual_Search']\n",
    "tasks = ['Ball_Catch', 'Indoor_Walk', 'Tea_Making', 'Visual_Search']\n",
    "bigboy_dict = {}\n",
    "for task in tasks:\n",
    "    path = './data/Extracted_Data/%s/Labels/'%task\n",
    "\n",
    "    for labeler in labelers.keys():\n",
    "        for filename in os.listdir(path):\n",
    "            if filename[-5] == labeler:       \n",
    "                needed_frames = frames_per_file_per_task_per_event[task][labeler]\n",
    "                mat = scipy.io.loadmat('./data/Extracted_Data/%s/Labels/%s'%(task, filename))\n",
    "                labels = {'f' : 0, 'gp' : 0, 's' : 0, 'gf' : 0}\n",
    "\n",
    "                label = np.array(mat['LabelData']['Labels'][0])[0][:,0]\n",
    "                label = label.tolist()\n",
    "                labels['f'] = max(0, needed_frames - label.count(1))\n",
    "                labels['gp'] = max(0, needed_frames - label.count(2))\n",
    "                labels['s'] = max(0, needed_frames - label.count(3))\n",
    "                labels['gf'] = max(0, needed_frames - label.count(5))\n",
    "                bigboy_dict[filename] = labels\n",
    "                \n"
   ]
  },
  {
   "cell_type": "code",
   "execution_count": 96,
   "metadata": {},
   "outputs": [
    {
     "data": {
      "text/plain": [
       "{'PrIdx_1_TrIdx_2_Lbr_1.mat': {'f': 0, 'gp': 0, 's': 0, 'gf': 2681},\n",
       " 'PrIdx_2_TrIdx_2_Lbr_1.mat': {'f': 0, 'gp': 0, 's': 0, 'gf': 3311},\n",
       " 'PrIdx_9_TrIdx_2_Lbr_1.mat': {'f': 0, 'gp': 0, 's': 0, 'gf': 4098},\n",
       " 'PrIdx_1_TrIdx_2_Lbr_2.mat': {'f': 0, 'gp': 0, 's': 0, 'gf': 4250},\n",
       " 'PrIdx_2_TrIdx_2_Lbr_2.mat': {'f': 0, 'gp': 0, 's': 0, 'gf': 4250},\n",
       " 'PrIdx_22_TrIdx_2_Lbr_3.mat': {'f': 0, 'gp': 1064, 's': 9262, 'gf': 14715},\n",
       " 'PrIdx_1_TrIdx_2_Lbr_5.mat': {'f': 0, 'gp': 0, 's': 0, 'gf': 1312},\n",
       " 'PrIdx_2_TrIdx_2_Lbr_5.mat': {'f': 0, 'gp': 0, 's': 0, 'gf': 1750},\n",
       " 'PrIdx_6_TrIdx_2_Lbr_5.mat': {'f': 0, 'gp': 0, 's': 0, 'gf': 1750},\n",
       " 'PrIdx_19_TrIdx_2_Lbr_5.mat': {'f': 0, 'gp': 444, 's': 0, 'gf': 1750},\n",
       " 'PrIdx_8_TrIdx_2_Lbr_5.mat': {'f': 0, 'gp': 0, 's': 0, 'gf': 1750},\n",
       " 'PrIdx_1_TrIdx_2_Lbr_6.mat': {'f': 0, 'gp': 0, 's': 0, 'gf': 1471},\n",
       " 'PrIdx_2_TrIdx_2_Lbr_6.mat': {'f': 0, 'gp': 0, 's': 0, 'gf': 1983},\n",
       " 'PrIdx_6_TrIdx_2_Lbr_6.mat': {'f': 0, 'gp': 0, 's': 0, 'gf': 1983},\n",
       " 'PrIdx_3_TrIdx_2_Lbr_6.mat': {'f': 0, 'gp': 0, 's': 0, 'gf': 1983},\n",
       " 'PrIdx_17_TrIdx_2_Lbr_6.mat': {'f': 0, 'gp': 0, 's': 0, 'gf': 1937},\n",
       " 'PrIdx_12_TrIdx_2_Lbr_6.mat': {'f': 0, 'gp': 0, 's': 0, 'gf': 1983},\n",
       " 'PrIdx_16_TrIdx_2_Lbr_6.mat': {'f': 0, 'gp': 614, 's': 0, 'gf': 1983},\n",
       " 'PrIdx_9_TrIdx_1_Lbr_1.mat': {'f': 3897, 'gp': 4250, 's': 0, 'gf': 0},\n",
       " 'PrIdx_2_TrIdx_1_Lbr_1.mat': {'f': 2425, 'gp': 4250, 's': 0, 'gf': 0},\n",
       " 'PrIdx_1_TrIdx_1_Lbr_1.mat': {'f': 4193, 'gp': 4250, 's': 0, 'gf': 0},\n",
       " 'PrIdx_16_TrIdx_1_Lbr_2.mat': {'f': 3844, 'gp': 4117, 's': 0, 'gf': 0},\n",
       " 'PrIdx_2_TrIdx_1_Lbr_2.mat': {'f': 1006, 'gp': 4250, 's': 0, 'gf': 0},\n",
       " 'PrIdx_1_TrIdx_1_Lbr_2.mat': {'f': 2430, 'gp': 4250, 's': 0, 'gf': 0},\n",
       " 'PrIdx_20_TrIdx_1_Lbr_3.mat': {'f': 14787, 'gp': 14872, 's': 12188, 'gf': 0},\n",
       " 'PrIdx_17_TrIdx_1_Lbr_5.mat': {'f': 1176, 'gp': 1750, 's': 0, 'gf': 0},\n",
       " 'PrIdx_8_TrIdx_1_Lbr_5.mat': {'f': 1750, 'gp': 1750, 's': 0, 'gf': 0},\n",
       " 'PrIdx_22_TrIdx_1_Lbr_5.mat': {'f': 810, 'gp': 642, 's': 0, 'gf': 0},\n",
       " 'PrIdx_2_TrIdx_1_Lbr_5.mat': {'f': 1670, 'gp': 1750, 's': 0, 'gf': 0},\n",
       " 'PrIdx_18_TrIdx_1_Lbr_5.mat': {'f': 1421, 'gp': 1750, 's': 0, 'gf': 0},\n",
       " 'PrIdx_3_TrIdx_1_Lbr_5.mat': {'f': 1750, 'gp': 1750, 's': 0, 'gf': 0},\n",
       " 'PrIdx_6_TrIdx_1_Lbr_5.mat': {'f': 558, 'gp': 1750, 's': 0, 'gf': 0},\n",
       " 'PrIdx_1_TrIdx_1_Lbr_5.mat': {'f': 532, 'gp': 1750, 's': 0, 'gf': 0},\n",
       " 'PrIdx_12_TrIdx_1_Lbr_6.mat': {'f': 933, 'gp': 1983, 's': 0, 'gf': 0},\n",
       " 'PrIdx_10_TrIdx_1_Lbr_6.mat': {'f': 1247, 'gp': 1983, 's': 0, 'gf': 0},\n",
       " 'PrIdx_2_TrIdx_1_Lbr_6.mat': {'f': 1382, 'gp': 1983, 's': 0, 'gf': 0},\n",
       " 'PrIdx_1_TrIdx_1_Lbr_6.mat': {'f': 1162, 'gp': 1983, 's': 0, 'gf': 0},\n",
       " 'PrIdx_2_TrIdx_3_Lbr_1.mat': {'f': 0, 'gp': 3973, 's': 0, 'gf': 0},\n",
       " 'PrIdx_12_TrIdx_4_Lbr_5.mat': {'f': 0, 'gp': 1620, 's': 0, 'gf': 0},\n",
       " 'PrIdx_18_TrIdx_4_Lbr_6.mat': {'f': 0, 'gp': 1983, 's': 0, 'gf': 0},\n",
       " 'PrIdx_22_TrIdx_3_Lbr_2.mat': {'f': 1419, 'gp': 4250, 's': 0, 'gf': 0},\n",
       " 'PrIdx_15_TrIdx_3_Lbr_2.mat': {'f': 4114, 'gp': 4250, 's': 0, 'gf': 0},\n",
       " 'PrIdx_18_TrIdx_3_Lbr_5.mat': {'f': 1750, 'gp': 1676, 's': 0, 'gf': 0},\n",
       " 'PrIdx_17_TrIdx_3_Lbr_5.mat': {'f': 1750, 'gp': 1750, 's': 0, 'gf': 0},\n",
       " 'PrIdx_20_TrIdx_3_Lbr_5.mat': {'f': 1750, 'gp': 1750, 's': 0, 'gf': 0},\n",
       " 'PrIdx_19_TrIdx_3_Lbr_6.mat': {'f': 177, 'gp': 1982, 's': 0, 'gf': 0},\n",
       " 'PrIdx_8_TrIdx_3_Lbr_6.mat': {'f': 0, 'gp': 1983, 's': 0, 'gf': 0},\n",
       " 'PrIdx_12_TrIdx_3_Lbr_6.mat': {'f': 1058, 'gp': 1983, 's': 0, 'gf': 0}}"
      ]
     },
     "execution_count": 96,
     "metadata": {},
     "output_type": "execute_result"
    }
   ],
   "source": [
    "bigboy_dict"
   ]
  },
  {
   "cell_type": "code",
   "execution_count": null,
   "metadata": {},
   "outputs": [],
   "source": []
  }
 ],
 "metadata": {
  "kernelspec": {
   "display_name": "Python 3.8.13 ('eye_movement')",
   "language": "python",
   "name": "python3"
  },
  "language_info": {
   "codemirror_mode": {
    "name": "ipython",
    "version": 3
   },
   "file_extension": ".py",
   "mimetype": "text/x-python",
   "name": "python",
   "nbconvert_exporter": "python",
   "pygments_lexer": "ipython3",
   "version": "3.8.13 (default, Oct 19 2022, 17:52:09) \n[Clang 12.0.0 ]"
  },
  "orig_nbformat": 4,
  "vscode": {
   "interpreter": {
    "hash": "08e1f31826e6e87a110bd470be0d531420b8587399cc6eccead10679433faceb"
   }
  }
 },
 "nbformat": 4,
 "nbformat_minor": 2
}

{
 "cells": [
  {
   "cell_type": "code",
   "execution_count": 197,
   "metadata": {},
   "outputs": [],
   "source": [
    "import math\n",
    "\n",
    "def predict(dataset, perclist):\n",
    "    predicted = []\n",
    "\n",
    "    for datapoint in dataset.values:\n",
    "        best = 999\n",
    "        for i in perclist:\n",
    "            #print(i[3])\n",
    "            if 1-i[3] * math.dist(datapoint, i[4]) < best:\n",
    "                best = 1-i[3] * math.dist(datapoint, i[4])\n",
    "                best_cluster = i[2]  \n",
    "        predicted.append(best_cluster)\n",
    "    return predicted\n"
   ]
  },
  {
   "cell_type": "code",
   "execution_count": 198,
   "metadata": {},
   "outputs": [],
   "source": [
    "import pandas as pd\n",
    "task = 'labeler6'\n",
    "cluster = 50"
   ]
  },
  {
   "cell_type": "code",
   "execution_count": 199,
   "metadata": {},
   "outputs": [],
   "source": [
    "clusters = pd.read_csv('plots/clustering/t_%s/c_%i/percentages.csv'%(task, cluster))"
   ]
  },
  {
   "cell_type": "code",
   "execution_count": 200,
   "metadata": {},
   "outputs": [],
   "source": [
    "cluster_perc = []\n",
    "for i in clusters['label percentage'].values:\n",
    "    cluster_perc.append(int(i.replace('%',''))/100)\n",
    "\n",
    "clusters['label percentage'] = cluster_perc\n"
   ]
  },
  {
   "cell_type": "code",
   "execution_count": 201,
   "metadata": {},
   "outputs": [],
   "source": [
    "import functions"
   ]
  },
  {
   "cell_type": "code",
   "execution_count": 202,
   "metadata": {},
   "outputs": [
    {
     "ename": "AttributeError",
     "evalue": "'DataFrame' object has no attribute 'label'",
     "output_type": "error",
     "traceback": [
      "\u001b[0;31m---------------------------------------------------------------------------\u001b[0m",
      "\u001b[0;31mAttributeError\u001b[0m                            Traceback (most recent call last)",
      "\u001b[1;32m/Users/rubenotter/Desktop/school/master/graduation/eyes/code/proj1/Unsupervised-Gaze-Event-Discrimination/clus_pred.ipynb Cell 6\u001b[0m in \u001b[0;36m<cell line: 4>\u001b[0;34m()\u001b[0m\n\u001b[1;32m      <a href='vscode-notebook-cell:/Users/rubenotter/Desktop/school/master/graduation/eyes/code/proj1/Unsupervised-Gaze-Event-Discrimination/clus_pred.ipynb#W5sZmlsZQ%3D%3D?line=0'>1</a>\u001b[0m df \u001b[39m=\u001b[39m functions\u001b[39m.\u001b[39mfile_opener(task \u001b[39m=\u001b[39m task, labeler \u001b[39m=\u001b[39m \u001b[39m'\u001b[39m\u001b[39mall\u001b[39m\u001b[39m'\u001b[39m)\n\u001b[1;32m      <a href='vscode-notebook-cell:/Users/rubenotter/Desktop/school/master/graduation/eyes/code/proj1/Unsupervised-Gaze-Event-Discrimination/clus_pred.ipynb#W5sZmlsZQ%3D%3D?line=2'>3</a>\u001b[0m balanced \u001b[39m=\u001b[39m pd\u001b[39m.\u001b[39mDataFrame()\n\u001b[0;32m----> <a href='vscode-notebook-cell:/Users/rubenotter/Desktop/school/master/graduation/eyes/code/proj1/Unsupervised-Gaze-Event-Discrimination/clus_pred.ipynb#W5sZmlsZQ%3D%3D?line=3'>4</a>\u001b[0m \u001b[39mfor\u001b[39;00m i \u001b[39min\u001b[39;00m df\u001b[39m.\u001b[39;49mlabel\u001b[39m.\u001b[39munique():\n\u001b[1;32m      <a href='vscode-notebook-cell:/Users/rubenotter/Desktop/school/master/graduation/eyes/code/proj1/Unsupervised-Gaze-Event-Discrimination/clus_pred.ipynb#W5sZmlsZQ%3D%3D?line=4'>5</a>\u001b[0m     balanced \u001b[39m=\u001b[39m pd\u001b[39m.\u001b[39mconcat([balanced, df\u001b[39m.\u001b[39mloc[df[\u001b[39m'\u001b[39m\u001b[39mlabel\u001b[39m\u001b[39m'\u001b[39m] \u001b[39m==\u001b[39m \u001b[39mfloat\u001b[39m(i)]\u001b[39m.\u001b[39msample(\u001b[39mmin\u001b[39m(df\u001b[39m.\u001b[39mlabel\u001b[39m.\u001b[39mvalue_counts()))])\n",
      "File \u001b[0;32m~/opt/anaconda3/lib/python3.8/site-packages/pandas/core/generic.py:5575\u001b[0m, in \u001b[0;36mNDFrame.__getattr__\u001b[0;34m(self, name)\u001b[0m\n\u001b[1;32m   5568\u001b[0m \u001b[39mif\u001b[39;00m (\n\u001b[1;32m   5569\u001b[0m     name \u001b[39mnot\u001b[39;00m \u001b[39min\u001b[39;00m \u001b[39mself\u001b[39m\u001b[39m.\u001b[39m_internal_names_set\n\u001b[1;32m   5570\u001b[0m     \u001b[39mand\u001b[39;00m name \u001b[39mnot\u001b[39;00m \u001b[39min\u001b[39;00m \u001b[39mself\u001b[39m\u001b[39m.\u001b[39m_metadata\n\u001b[1;32m   5571\u001b[0m     \u001b[39mand\u001b[39;00m name \u001b[39mnot\u001b[39;00m \u001b[39min\u001b[39;00m \u001b[39mself\u001b[39m\u001b[39m.\u001b[39m_accessors\n\u001b[1;32m   5572\u001b[0m     \u001b[39mand\u001b[39;00m \u001b[39mself\u001b[39m\u001b[39m.\u001b[39m_info_axis\u001b[39m.\u001b[39m_can_hold_identifiers_and_holds_name(name)\n\u001b[1;32m   5573\u001b[0m ):\n\u001b[1;32m   5574\u001b[0m     \u001b[39mreturn\u001b[39;00m \u001b[39mself\u001b[39m[name]\n\u001b[0;32m-> 5575\u001b[0m \u001b[39mreturn\u001b[39;00m \u001b[39mobject\u001b[39;49m\u001b[39m.\u001b[39;49m\u001b[39m__getattribute__\u001b[39;49m(\u001b[39mself\u001b[39;49m, name)\n",
      "\u001b[0;31mAttributeError\u001b[0m: 'DataFrame' object has no attribute 'label'"
     ]
    }
   ],
   "source": [
    "df = functions.file_opener(task = task, labeler = 'all')\n",
    "\n",
    "balanced = pd.DataFrame()\n",
    "for i in df.label.unique():\n",
    "    balanced = pd.concat([balanced, df.loc[df['label'] == float(i)].sample(min(df.label.value_counts()))])"
   ]
  },
  {
   "cell_type": "code",
   "execution_count": 203,
   "metadata": {},
   "outputs": [
    {
     "name": "stdout",
     "output_type": "stream",
     "text": [
      "1806 999999\n",
      "2740 9999999\n",
      "46 9999999\n",
      "2754 9999999\n",
      "0 9999999\n",
      "6008 9999999\n",
      "0 9999999\n",
      "821 999999\n",
      "2491 999999\n",
      "2239 9999999\n",
      "0 9999999\n",
      "10442 999999\n",
      "2666 9999999\n",
      "1292 9999999\n",
      "0 9999999\n",
      "733 999999\n",
      "7667 9999999\n",
      "0 9999999\n",
      "5446 9999999\n",
      "0 9999999\n",
      "601 999999\n",
      "896 999999\n",
      "736 999999\n"
     ]
    }
   ],
   "source": [
    "import os\n",
    "path = './data/feats_lbls/lblr6/'\n",
    "df = pd.DataFrame()\n",
    "\n",
    "framesdict = {'2': {'0': 1563, '1': 9999999, '2': 1294, '3': 9999999},\\\n",
    "            '1' : {'0': 999999, '1': 0, '2': 2264, '3': 2441},\\\n",
    "            '4' : {'0' : 999999, '1': 0, '2': 9999999, '3': 9766},\\\n",
    "            '3': {'0': 999999, '1': 0, '2': 3020, '3': 3255}}\n",
    "\n",
    "for filename in os.listdir(path):\n",
    "    if filename.startswith('lbls'):\n",
    "        file_df = pd.read_csv(path+ 'feats' + filename[4:], header = None)\n",
    "        file_df['label'] = pd.read_csv(path+ 'lbls' + filename[4:], header = None)\n",
    "        df= pd.concat([df, functions.get_frames(file_df, framesdict[filename[-5]])])"
   ]
  },
  {
   "cell_type": "code",
   "execution_count": 204,
   "metadata": {},
   "outputs": [],
   "source": [
    "labels = df.label\n",
    "#df = balanced.drop(['task', 'label'], axis = 1)\n",
    "df = df.drop(['label'], axis = 1)\n",
    "df = functions.normalize(df)"
   ]
  },
  {
   "cell_type": "code",
   "execution_count": 205,
   "metadata": {},
   "outputs": [
    {
     "data": {
      "text/html": [
       "<div>\n",
       "<style scoped>\n",
       "    .dataframe tbody tr th:only-of-type {\n",
       "        vertical-align: middle;\n",
       "    }\n",
       "\n",
       "    .dataframe tbody tr th {\n",
       "        vertical-align: top;\n",
       "    }\n",
       "\n",
       "    .dataframe thead th {\n",
       "        text-align: right;\n",
       "    }\n",
       "</style>\n",
       "<table border=\"1\" class=\"dataframe\">\n",
       "  <thead>\n",
       "    <tr style=\"text-align: right;\">\n",
       "      <th></th>\n",
       "      <th>0</th>\n",
       "      <th>1</th>\n",
       "      <th>2</th>\n",
       "      <th>3</th>\n",
       "      <th>4</th>\n",
       "      <th>5</th>\n",
       "    </tr>\n",
       "  </thead>\n",
       "  <tbody>\n",
       "    <tr>\n",
       "      <th>53</th>\n",
       "      <td>0.000232</td>\n",
       "      <td>0.890523</td>\n",
       "      <td>0.232885</td>\n",
       "      <td>0.565032</td>\n",
       "      <td>0.540333</td>\n",
       "      <td>0.477752</td>\n",
       "    </tr>\n",
       "    <tr>\n",
       "      <th>54</th>\n",
       "      <td>0.000251</td>\n",
       "      <td>0.516190</td>\n",
       "      <td>0.232892</td>\n",
       "      <td>0.565042</td>\n",
       "      <td>0.550164</td>\n",
       "      <td>0.471199</td>\n",
       "    </tr>\n",
       "    <tr>\n",
       "      <th>55</th>\n",
       "      <td>0.000193</td>\n",
       "      <td>0.752162</td>\n",
       "      <td>0.232899</td>\n",
       "      <td>0.565051</td>\n",
       "      <td>0.560025</td>\n",
       "      <td>0.466129</td>\n",
       "    </tr>\n",
       "    <tr>\n",
       "      <th>60</th>\n",
       "      <td>0.000079</td>\n",
       "      <td>0.800002</td>\n",
       "      <td>0.232936</td>\n",
       "      <td>0.565100</td>\n",
       "      <td>0.595249</td>\n",
       "      <td>0.468666</td>\n",
       "    </tr>\n",
       "    <tr>\n",
       "      <th>61</th>\n",
       "      <td>0.000281</td>\n",
       "      <td>0.006786</td>\n",
       "      <td>0.232945</td>\n",
       "      <td>0.565112</td>\n",
       "      <td>0.596589</td>\n",
       "      <td>0.475866</td>\n",
       "    </tr>\n",
       "  </tbody>\n",
       "</table>\n",
       "</div>"
      ],
      "text/plain": [
       "           0         1         2         3         4         5\n",
       "53  0.000232  0.890523  0.232885  0.565032  0.540333  0.477752\n",
       "54  0.000251  0.516190  0.232892  0.565042  0.550164  0.471199\n",
       "55  0.000193  0.752162  0.232899  0.565051  0.560025  0.466129\n",
       "60  0.000079  0.800002  0.232936  0.565100  0.595249  0.468666\n",
       "61  0.000281  0.006786  0.232945  0.565112  0.596589  0.475866"
      ]
     },
     "execution_count": 205,
     "metadata": {},
     "output_type": "execute_result"
    }
   ],
   "source": [
    "df.head()"
   ]
  },
  {
   "cell_type": "code",
   "execution_count": 206,
   "metadata": {},
   "outputs": [
    {
     "data": {
      "text/html": [
       "<div>\n",
       "<style scoped>\n",
       "    .dataframe tbody tr th:only-of-type {\n",
       "        vertical-align: middle;\n",
       "    }\n",
       "\n",
       "    .dataframe tbody tr th {\n",
       "        vertical-align: top;\n",
       "    }\n",
       "\n",
       "    .dataframe thead th {\n",
       "        text-align: right;\n",
       "    }\n",
       "</style>\n",
       "<table border=\"1\" class=\"dataframe\">\n",
       "  <thead>\n",
       "    <tr style=\"text-align: right;\">\n",
       "      <th></th>\n",
       "      <th>cluster</th>\n",
       "      <th>label distribution</th>\n",
       "      <th>label</th>\n",
       "      <th>label percentage</th>\n",
       "      <th>cluster center</th>\n",
       "    </tr>\n",
       "  </thead>\n",
       "  <tbody>\n",
       "    <tr>\n",
       "      <th>0</th>\n",
       "      <td>0</td>\n",
       "      <td>{0: 1317, 1: 226, 2: 496, 3: 2276}</td>\n",
       "      <td>3</td>\n",
       "      <td>0.53</td>\n",
       "      <td>[ 2.01518347e+00 -3.98881172e-02  4.86817956e-...</td>\n",
       "    </tr>\n",
       "    <tr>\n",
       "      <th>1</th>\n",
       "      <td>5</td>\n",
       "      <td>{0: 443, 1: 137, 2: 1166, 3: 416}</td>\n",
       "      <td>2</td>\n",
       "      <td>0.54</td>\n",
       "      <td>[ 4.50208198e+01  5.92853519e-02  7.92817926e-...</td>\n",
       "    </tr>\n",
       "    <tr>\n",
       "      <th>2</th>\n",
       "      <td>10</td>\n",
       "      <td>{0: 4800, 1: 3759, 2: 4320, 3: 4410}</td>\n",
       "      <td>0</td>\n",
       "      <td>0.28</td>\n",
       "      <td>[ 2.44433133e+00  1.15435475e-02  3.10688020e-...</td>\n",
       "    </tr>\n",
       "    <tr>\n",
       "      <th>3</th>\n",
       "      <td>13</td>\n",
       "      <td>{0: 21, 1: 37, 2: 54, 3: 26}</td>\n",
       "      <td>2</td>\n",
       "      <td>0.39</td>\n",
       "      <td>[ 4.44289385e+00 -7.72015090e-02  4.81443966e+...</td>\n",
       "    </tr>\n",
       "    <tr>\n",
       "      <th>4</th>\n",
       "      <td>14</td>\n",
       "      <td>{0: 18, 1: 3, 2: 51, 3: 47}</td>\n",
       "      <td>2</td>\n",
       "      <td>0.43</td>\n",
       "      <td>[ 6.61772786e+02 -8.43918032e-02  3.17489170e+...</td>\n",
       "    </tr>\n",
       "  </tbody>\n",
       "</table>\n",
       "</div>"
      ],
      "text/plain": [
       "   cluster                    label distribution  label  label percentage  \\\n",
       "0        0    {0: 1317, 1: 226, 2: 496, 3: 2276}      3              0.53   \n",
       "1        5     {0: 443, 1: 137, 2: 1166, 3: 416}      2              0.54   \n",
       "2       10  {0: 4800, 1: 3759, 2: 4320, 3: 4410}      0              0.28   \n",
       "3       13          {0: 21, 1: 37, 2: 54, 3: 26}      2              0.39   \n",
       "4       14           {0: 18, 1: 3, 2: 51, 3: 47}      2              0.43   \n",
       "\n",
       "                                      cluster center  \n",
       "0  [ 2.01518347e+00 -3.98881172e-02  4.86817956e-...  \n",
       "1  [ 4.50208198e+01  5.92853519e-02  7.92817926e-...  \n",
       "2  [ 2.44433133e+00  1.15435475e-02  3.10688020e-...  \n",
       "3  [ 4.44289385e+00 -7.72015090e-02  4.81443966e+...  \n",
       "4  [ 6.61772786e+02 -8.43918032e-02  3.17489170e+...  "
      ]
     },
     "execution_count": 206,
     "metadata": {},
     "output_type": "execute_result"
    }
   ],
   "source": [
    "clusters.head()"
   ]
  },
  {
   "cell_type": "code",
   "execution_count": 207,
   "metadata": {},
   "outputs": [],
   "source": [
    "\n",
    "centroids = []\n",
    "for i in clusters.values:\n",
    "    centroids.append([float(num) for num in i[4].replace('[', '').replace(']','').split()])"
   ]
  },
  {
   "cell_type": "code",
   "execution_count": 208,
   "metadata": {},
   "outputs": [],
   "source": [
    "clusters['cluster center'] = centroids"
   ]
  },
  {
   "cell_type": "code",
   "execution_count": 209,
   "metadata": {},
   "outputs": [
    {
     "data": {
      "text/html": [
       "<div>\n",
       "<style scoped>\n",
       "    .dataframe tbody tr th:only-of-type {\n",
       "        vertical-align: middle;\n",
       "    }\n",
       "\n",
       "    .dataframe tbody tr th {\n",
       "        vertical-align: top;\n",
       "    }\n",
       "\n",
       "    .dataframe thead th {\n",
       "        text-align: right;\n",
       "    }\n",
       "</style>\n",
       "<table border=\"1\" class=\"dataframe\">\n",
       "  <thead>\n",
       "    <tr style=\"text-align: right;\">\n",
       "      <th></th>\n",
       "      <th>cluster</th>\n",
       "      <th>label distribution</th>\n",
       "      <th>label</th>\n",
       "      <th>label percentage</th>\n",
       "      <th>cluster center</th>\n",
       "    </tr>\n",
       "  </thead>\n",
       "  <tbody>\n",
       "    <tr>\n",
       "      <th>0</th>\n",
       "      <td>0</td>\n",
       "      <td>{0: 1317, 1: 226, 2: 496, 3: 2276}</td>\n",
       "      <td>3</td>\n",
       "      <td>0.53</td>\n",
       "      <td>[2.01518347, -0.0398881172, 0.486817956, 0.000...</td>\n",
       "    </tr>\n",
       "    <tr>\n",
       "      <th>1</th>\n",
       "      <td>5</td>\n",
       "      <td>{0: 443, 1: 137, 2: 1166, 3: 416}</td>\n",
       "      <td>2</td>\n",
       "      <td>0.54</td>\n",
       "      <td>[45.0208198, 0.0592853519, 0.792817926, -0.000...</td>\n",
       "    </tr>\n",
       "    <tr>\n",
       "      <th>2</th>\n",
       "      <td>10</td>\n",
       "      <td>{0: 4800, 1: 3759, 2: 4320, 3: 4410}</td>\n",
       "      <td>0</td>\n",
       "      <td>0.28</td>\n",
       "      <td>[2.44433133, 0.0115435475, 0.31068802, -0.0003...</td>\n",
       "    </tr>\n",
       "    <tr>\n",
       "      <th>3</th>\n",
       "      <td>13</td>\n",
       "      <td>{0: 21, 1: 37, 2: 54, 3: 26}</td>\n",
       "      <td>2</td>\n",
       "      <td>0.39</td>\n",
       "      <td>[4.44289385, -0.077201509, 481.443966, 0.43656...</td>\n",
       "    </tr>\n",
       "    <tr>\n",
       "      <th>4</th>\n",
       "      <td>14</td>\n",
       "      <td>{0: 18, 1: 3, 2: 51, 3: 47}</td>\n",
       "      <td>2</td>\n",
       "      <td>0.43</td>\n",
       "      <td>[661.772786, -0.0843918032, 3.1748917, -0.0057...</td>\n",
       "    </tr>\n",
       "  </tbody>\n",
       "</table>\n",
       "</div>"
      ],
      "text/plain": [
       "   cluster                    label distribution  label  label percentage  \\\n",
       "0        0    {0: 1317, 1: 226, 2: 496, 3: 2276}      3              0.53   \n",
       "1        5     {0: 443, 1: 137, 2: 1166, 3: 416}      2              0.54   \n",
       "2       10  {0: 4800, 1: 3759, 2: 4320, 3: 4410}      0              0.28   \n",
       "3       13          {0: 21, 1: 37, 2: 54, 3: 26}      2              0.39   \n",
       "4       14           {0: 18, 1: 3, 2: 51, 3: 47}      2              0.43   \n",
       "\n",
       "                                      cluster center  \n",
       "0  [2.01518347, -0.0398881172, 0.486817956, 0.000...  \n",
       "1  [45.0208198, 0.0592853519, 0.792817926, -0.000...  \n",
       "2  [2.44433133, 0.0115435475, 0.31068802, -0.0003...  \n",
       "3  [4.44289385, -0.077201509, 481.443966, 0.43656...  \n",
       "4  [661.772786, -0.0843918032, 3.1748917, -0.0057...  "
      ]
     },
     "execution_count": 209,
     "metadata": {},
     "output_type": "execute_result"
    }
   ],
   "source": [
    "clusters.head()"
   ]
  },
  {
   "cell_type": "code",
   "execution_count": 210,
   "metadata": {},
   "outputs": [],
   "source": [
    "predicted = predict(df, clusters.values)"
   ]
  },
  {
   "cell_type": "code",
   "execution_count": 211,
   "metadata": {},
   "outputs": [
    {
     "data": {
      "text/plain": [
       "0"
      ]
     },
     "execution_count": 211,
     "metadata": {},
     "output_type": "execute_result"
    }
   ],
   "source": [
    "predicted.count(1)"
   ]
  },
  {
   "cell_type": "code",
   "execution_count": 212,
   "metadata": {},
   "outputs": [
    {
     "name": "stdout",
     "output_type": "stream",
     "text": [
      "task: labeler6\n",
      "              precision    recall  f1-score   support\n",
      "\n",
      "         0.0       0.00      0.00      0.00     29467\n",
      "         1.0       0.00      0.00      0.00     28146\n",
      "         2.0       0.26      1.00      0.41     29840\n",
      "         3.0       0.00      0.00      0.00     29341\n",
      "\n",
      "    accuracy                           0.26    116794\n",
      "   macro avg       0.06      0.25      0.10    116794\n",
      "weighted avg       0.07      0.26      0.10    116794\n",
      "\n"
     ]
    },
    {
     "name": "stderr",
     "output_type": "stream",
     "text": [
      "/Users/rubenotter/opt/anaconda3/lib/python3.8/site-packages/scikit_learn-1.2.0rc1-py3.8-macosx-11.1-arm64.egg/sklearn/metrics/_classification.py:1344: UndefinedMetricWarning: Precision and F-score are ill-defined and being set to 0.0 in labels with no predicted samples. Use `zero_division` parameter to control this behavior.\n",
      "  _warn_prf(average, modifier, msg_start, len(result))\n",
      "/Users/rubenotter/opt/anaconda3/lib/python3.8/site-packages/scikit_learn-1.2.0rc1-py3.8-macosx-11.1-arm64.egg/sklearn/metrics/_classification.py:1344: UndefinedMetricWarning: Precision and F-score are ill-defined and being set to 0.0 in labels with no predicted samples. Use `zero_division` parameter to control this behavior.\n",
      "  _warn_prf(average, modifier, msg_start, len(result))\n",
      "/Users/rubenotter/opt/anaconda3/lib/python3.8/site-packages/scikit_learn-1.2.0rc1-py3.8-macosx-11.1-arm64.egg/sklearn/metrics/_classification.py:1344: UndefinedMetricWarning: Precision and F-score are ill-defined and being set to 0.0 in labels with no predicted samples. Use `zero_division` parameter to control this behavior.\n",
      "  _warn_prf(average, modifier, msg_start, len(result))\n"
     ]
    },
    {
     "data": {
      "text/plain": [
       "Text(0.5, 1.0, 'task: labeler6')"
      ]
     },
     "execution_count": 212,
     "metadata": {},
     "output_type": "execute_result"
    },
    {
     "data": {
      "image/png": "[encoded data removed]",
      "text/plain": [
       "<Figure size 640x480 with 2 Axes>"
      ]
     },
     "metadata": {},
     "output_type": "display_data"
    }
   ],
   "source": [
    "import matplotlib.pyplot as plt\n",
    "from sklearn.metrics import classification_report, confusion_matrix, accuracy_score, cohen_kappa_score\n",
    "import seaborn as sns\n",
    "\n",
    "print('task: ' + task)\n",
    "print(classification_report(labels, predicted))\n",
    "plt.clf()\n",
    "ax = sns.heatmap(confusion_matrix(predicted, labels), annot=True, cmap='Blues')\n",
    "\n",
    "ax.set_ylabel('\\nPredicted Values')\n",
    "ax.set_xlabel('Actual Values ')\n",
    "ax.set_title('task: '+ str(task))"
   ]
  }
 ],
 "metadata": {
  "kernelspec": {
   "display_name": "base",
   "language": "python",
   "name": "python3"
  },
  "language_info": {
   "codemirror_mode": {
    "name": "ipython",
    "version": 3
   },
   "file_extension": ".py",
   "mimetype": "text/x-python",
   "name": "python",
   "nbconvert_exporter": "python",
   "pygments_lexer": "ipython3",
   "version": "3.8.13"
  },
  "orig_nbformat": 4
 },
 "nbformat": 4,
 "nbformat_minor": 2
}

{
 "cells": [
  {
   "cell_type": "code",
   "execution_count": 1,
   "metadata": {},
   "outputs": [],
   "source": [
    "import pandas as pd\n",
    "clusters = [10,50,100]\n",
    "tasks = ['labeler6']"
   ]
  },
  {
   "cell_type": "code",
   "execution_count": 2,
   "metadata": {},
   "outputs": [],
   "source": [
    "def Average(lst):\n",
    "    return round(sum(lst) / len(lst), 2)"
   ]
  },
  {
   "cell_type": "code",
   "execution_count": 3,
   "metadata": {},
   "outputs": [],
   "source": [
    "for task in tasks:\n",
    "    for cluster in clusters:\n",
    "        df = pd.read_csv('plots/clustering/t_%s/c_%i/percentages.csv'%(task, cluster))\n",
    "        df = df.drop('label distribution', axis = 1)\n",
    "        df['label percentage'] = df['label percentage'].str[:-1].astype(int)\n",
    "        df1 = df.groupby('label').agg(list)\n",
    "        avg = []\n",
    "        for i in df1['label percentage'].tolist():\n",
    "            avg.append(Average(i))\n",
    "\n",
    "        df1['label percentage'] = avg\n",
    "        average = Average(avg)\n",
    "        df1.to_csv('plots/clustering/t_%s/c_%i/percentage_report_avg_%i.csv'%(task, cluster, average))"
   ]
  },
  {
   "cell_type": "code",
   "execution_count": 4,
   "metadata": {},
   "outputs": [
    {
     "data": {
      "text/html": [
       "<div>\n",
       "<style scoped>\n",
       "    .dataframe tbody tr th:only-of-type {\n",
       "        vertical-align: middle;\n",
       "    }\n",
       "\n",
       "    .dataframe tbody tr th {\n",
       "        vertical-align: top;\n",
       "    }\n",
       "\n",
       "    .dataframe thead th {\n",
       "        text-align: right;\n",
       "    }\n",
       "</style>\n",
       "<table border=\"1\" class=\"dataframe\">\n",
       "  <thead>\n",
       "    <tr style=\"text-align: right;\">\n",
       "      <th></th>\n",
       "      <th>cluster</th>\n",
       "      <th>label percentage</th>\n",
       "    </tr>\n",
       "    <tr>\n",
       "      <th>label</th>\n",
       "      <th></th>\n",
       "      <th></th>\n",
       "    </tr>\n",
       "  </thead>\n",
       "  <tbody>\n",
       "    <tr>\n",
       "      <th>0</th>\n",
       "      <td>[0, 20, 38, 94]</td>\n",
       "      <td>28.25</td>\n",
       "    </tr>\n",
       "    <tr>\n",
       "      <th>1</th>\n",
       "      <td>[8, 27, 45, 67, 74]</td>\n",
       "      <td>40.60</td>\n",
       "    </tr>\n",
       "    <tr>\n",
       "      <th>2</th>\n",
       "      <td>[13, 17, 41, 47, 48, 62, 64, 66, 82, 87, 93]</td>\n",
       "      <td>45.73</td>\n",
       "    </tr>\n",
       "    <tr>\n",
       "      <th>3</th>\n",
       "      <td>[19, 68, 69, 78]</td>\n",
       "      <td>46.75</td>\n",
       "    </tr>\n",
       "  </tbody>\n",
       "</table>\n",
       "</div>"
      ],
      "text/plain": [
       "                                            cluster  label percentage\n",
       "label                                                                \n",
       "0                                   [0, 20, 38, 94]             28.25\n",
       "1                               [8, 27, 45, 67, 74]             40.60\n",
       "2      [13, 17, 41, 47, 48, 62, 64, 66, 82, 87, 93]             45.73\n",
       "3                                  [19, 68, 69, 78]             46.75"
      ]
     },
     "execution_count": 4,
     "metadata": {},
     "output_type": "execute_result"
    }
   ],
   "source": [
    "df1.head()"
   ]
  }
 ],
 "metadata": {
  "kernelspec": {
   "display_name": "base",
   "language": "python",
   "name": "python3"
  },
  "language_info": {
   "codemirror_mode": {
    "name": "ipython",
    "version": 3
   },
   "file_extension": ".py",
   "mimetype": "text/x-python",
   "name": "python",
   "nbconvert_exporter": "python",
   "pygments_lexer": "ipython3",
   "version": "3.8.13"
  },
  "orig_nbformat": 4
 },
 "nbformat": 4,
 "nbformat_minor": 2
}

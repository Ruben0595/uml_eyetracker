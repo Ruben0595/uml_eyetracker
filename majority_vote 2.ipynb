{
 "cells": [
  {
   "cell_type": "code",
   "execution_count": 9,
   "metadata": {},
   "outputs": [],
   "source": [
    "import pandas as pd\n",
    "import matplotlib.pyplot as plt\n",
    "import os\n",
    "import scipy\n",
    "import numpy as np"
   ]
  },
  {
   "cell_type": "code",
   "execution_count": 10,
   "metadata": {},
   "outputs": [],
   "source": [
    "task = 'Indoor_Walk'\n",
    "\n",
    "\n",
    "participants = {'1': {1:[], 2:[], 5: [], 6:[]},'2': {1:[], 2:[], 5: [], 6:[]},'6': {5:[], 6:[]}}\n",
    "\n",
    "\n",
    "path = './data/Extracted_Data/%s/Labels/'%task\n",
    "for filename in os.listdir(path):\n",
    "    participant = filename.split('_')[1]\n",
    "    labeler = int(filename[-5])\n",
    "    if participant in participants.keys():\n",
    "        mat = scipy.io.loadmat('./data/Extracted_Data/%s/Labels/%s'%(task, filename))\n",
    "        label = []\n",
    "        label = np.array(mat['LabelData']['Labels'][0])[0][:,0]\n",
    "        label = label.tolist()\n",
    "        participants[participant][labeler] = label\n"
   ]
  },
  {
   "cell_type": "code",
   "execution_count": 11,
   "metadata": {},
   "outputs": [],
   "source": [
    "participant = '2'\n",
    "majority = []\n",
    "vote_tresholds = [1,2,3,4]\n",
    "give_zero_lower_prios = [0, 1, 2, 3]\n",
    "\n",
    "for vote_treshold in vote_tresholds:\n",
    "    for give_zero_lower_prio in give_zero_lower_prios:\n",
    "        for index in range(0,len(participants[participant][1])):\n",
    "            vote_list = []\n",
    "            maybe_fuckup = False\n",
    "            numbers = {0:0, 1:0, 2:0, 3:0, 4:0, 5:0}\n",
    "            vote_list = [participants[participant][1][index], participants[participant][2][index], participants[participant][5][index], participants[participant][6][index]]\n",
    "            for number in numbers.keys():\n",
    "                numbers[number] = vote_list.count(number)\n",
    "            \n",
    "            #Experimental, since 0 is no information, its votes could be lowered\n",
    "            numbers[0] = max(0, numbers[0] - give_zero_lower_prio)\n",
    "\n",
    "            if len([k for k, v in numbers.items() if v == max(numbers.values())]) > 1:\n",
    "                majority.append(max([k for k, v in numbers.items() if v == max(numbers.values())]))     #Max could be changed to min or entire append stuff to 0\n",
    "\n",
    "            else:\n",
    "                if max(numbers.values()) >= vote_treshold:\n",
    "                    majority.append(max(numbers, key=numbers.get))\n",
    "\n",
    "                else:\n",
    "                    majority.append(0)\n",
    "\n",
    "            prev_choice = majority[-1]\n",
    "\n",
    "        with open('./generated_data/majority_vote/%s/max label/participant_%s_vt_%s_zlp_%s.txt'%(task, participant, vote_treshold ,give_zero_lower_prio), 'w') as f:\n",
    "            f.write(str(majority))"
   ]
  },
  {
   "cell_type": "code",
   "execution_count": 12,
   "metadata": {},
   "outputs": [
    {
     "data": {
      "text/plain": [
       "1591680"
      ]
     },
     "execution_count": 12,
     "metadata": {},
     "output_type": "execute_result"
    }
   ],
   "source": [
    "len(majority)"
   ]
  }
 ],
 "metadata": {
  "kernelspec": {
   "display_name": "Python 3.8.13 ('eye_movement')",
   "language": "python",
   "name": "python3"
  },
  "language_info": {
   "codemirror_mode": {
    "name": "ipython",
    "version": 3
   },
   "file_extension": ".py",
   "mimetype": "text/x-python",
   "name": "python",
   "nbconvert_exporter": "python",
   "pygments_lexer": "ipython3",
   "version": "3.8.13"
  },
  "orig_nbformat": 4,
  "vscode": {
   "interpreter": {
    "hash": "08e1f31826e6e87a110bd470be0d531420b8587399cc6eccead10679433faceb"
   }
  }
 },
 "nbformat": 4,
 "nbformat_minor": 2
}

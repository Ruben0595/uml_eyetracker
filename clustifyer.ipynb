{
 "cells": [
  {
   "cell_type": "code",
   "execution_count": 62,
   "metadata": {},
   "outputs": [],
   "source": [
    "from sklearn.neighbors import (NeighborhoodComponentsAnalysis,KNeighborsClassifier)"
   ]
  },
  {
   "cell_type": "code",
   "execution_count": 63,
   "metadata": {},
   "outputs": [],
   "source": [
    "import functions\n",
    "import pandas as pd"
   ]
  },
  {
   "cell_type": "code",
   "execution_count": 64,
   "metadata": {},
   "outputs": [],
   "source": [
    "df = functions.file_opener(task='2',labeler='all')\n",
    "task = df.task\n",
    "df = df.drop('task', axis = 1)\n"
   ]
  },
  {
   "cell_type": "code",
   "execution_count": 65,
   "metadata": {},
   "outputs": [],
   "source": [
    "balanced = pd.DataFrame()\n",
    "for i in df.label.unique():\n",
    "    balanced = pd.concat([balanced, df.loc[df['label'] == float(i)].sample(min(df.label.value_counts()))])"
   ]
  },
  {
   "cell_type": "code",
   "execution_count": 66,
   "metadata": {},
   "outputs": [
    {
     "data": {
      "text/html": [
       "<div>\n",
       "<style scoped>\n",
       "    .dataframe tbody tr th:only-of-type {\n",
       "        vertical-align: middle;\n",
       "    }\n",
       "\n",
       "    .dataframe tbody tr th {\n",
       "        vertical-align: top;\n",
       "    }\n",
       "\n",
       "    .dataframe thead th {\n",
       "        text-align: right;\n",
       "    }\n",
       "</style>\n",
       "<table border=\"1\" class=\"dataframe\">\n",
       "  <thead>\n",
       "    <tr style=\"text-align: right;\">\n",
       "      <th></th>\n",
       "      <th>0</th>\n",
       "      <th>1</th>\n",
       "      <th>2</th>\n",
       "      <th>3</th>\n",
       "      <th>4</th>\n",
       "      <th>5</th>\n",
       "      <th>label</th>\n",
       "    </tr>\n",
       "  </thead>\n",
       "  <tbody>\n",
       "    <tr>\n",
       "      <th>0</th>\n",
       "      <td>0.000030</td>\n",
       "      <td>0.733901</td>\n",
       "      <td>0.189411</td>\n",
       "      <td>0.566259</td>\n",
       "      <td>0.188208</td>\n",
       "      <td>0.539413</td>\n",
       "      <td>0.0</td>\n",
       "    </tr>\n",
       "    <tr>\n",
       "      <th>1</th>\n",
       "      <td>0.000072</td>\n",
       "      <td>0.853151</td>\n",
       "      <td>0.189406</td>\n",
       "      <td>0.566265</td>\n",
       "      <td>0.186040</td>\n",
       "      <td>0.547452</td>\n",
       "      <td>0.0</td>\n",
       "    </tr>\n",
       "    <tr>\n",
       "      <th>2</th>\n",
       "      <td>0.000089</td>\n",
       "      <td>0.766509</td>\n",
       "      <td>0.189400</td>\n",
       "      <td>0.566271</td>\n",
       "      <td>0.184139</td>\n",
       "      <td>0.554615</td>\n",
       "      <td>0.0</td>\n",
       "    </tr>\n",
       "    <tr>\n",
       "      <th>3</th>\n",
       "      <td>0.000107</td>\n",
       "      <td>0.726782</td>\n",
       "      <td>0.189395</td>\n",
       "      <td>0.566277</td>\n",
       "      <td>0.182504</td>\n",
       "      <td>0.560934</td>\n",
       "      <td>0.0</td>\n",
       "    </tr>\n",
       "    <tr>\n",
       "      <th>4</th>\n",
       "      <td>0.000105</td>\n",
       "      <td>0.818264</td>\n",
       "      <td>0.189390</td>\n",
       "      <td>0.566283</td>\n",
       "      <td>0.181135</td>\n",
       "      <td>0.566440</td>\n",
       "      <td>0.0</td>\n",
       "    </tr>\n",
       "    <tr>\n",
       "      <th>...</th>\n",
       "      <td>...</td>\n",
       "      <td>...</td>\n",
       "      <td>...</td>\n",
       "      <td>...</td>\n",
       "      <td>...</td>\n",
       "      <td>...</td>\n",
       "      <td>...</td>\n",
       "    </tr>\n",
       "    <tr>\n",
       "      <th>10512</th>\n",
       "      <td>0.000198</td>\n",
       "      <td>0.744103</td>\n",
       "      <td>0.189470</td>\n",
       "      <td>0.566452</td>\n",
       "      <td>0.500894</td>\n",
       "      <td>0.630330</td>\n",
       "      <td>0.5</td>\n",
       "    </tr>\n",
       "    <tr>\n",
       "      <th>10513</th>\n",
       "      <td>0.000357</td>\n",
       "      <td>0.771607</td>\n",
       "      <td>0.189456</td>\n",
       "      <td>0.566438</td>\n",
       "      <td>0.500887</td>\n",
       "      <td>0.641935</td>\n",
       "      <td>0.5</td>\n",
       "    </tr>\n",
       "    <tr>\n",
       "      <th>10514</th>\n",
       "      <td>0.000224</td>\n",
       "      <td>0.751594</td>\n",
       "      <td>0.189439</td>\n",
       "      <td>0.566421</td>\n",
       "      <td>0.500869</td>\n",
       "      <td>0.653895</td>\n",
       "      <td>0.5</td>\n",
       "    </tr>\n",
       "    <tr>\n",
       "      <th>10515</th>\n",
       "      <td>0.000262</td>\n",
       "      <td>0.743195</td>\n",
       "      <td>0.189419</td>\n",
       "      <td>0.566403</td>\n",
       "      <td>0.500838</td>\n",
       "      <td>0.666199</td>\n",
       "      <td>0.5</td>\n",
       "    </tr>\n",
       "    <tr>\n",
       "      <th>10516</th>\n",
       "      <td>0.000000</td>\n",
       "      <td>0.500004</td>\n",
       "      <td>0.189397</td>\n",
       "      <td>0.566382</td>\n",
       "      <td>0.500795</td>\n",
       "      <td>0.678836</td>\n",
       "      <td>0.5</td>\n",
       "    </tr>\n",
       "  </tbody>\n",
       "</table>\n",
       "<p>60560 rows × 7 columns</p>\n",
       "</div>"
      ],
      "text/plain": [
       "              0         1         2         3         4         5  label\n",
       "0      0.000030  0.733901  0.189411  0.566259  0.188208  0.539413    0.0\n",
       "1      0.000072  0.853151  0.189406  0.566265  0.186040  0.547452    0.0\n",
       "2      0.000089  0.766509  0.189400  0.566271  0.184139  0.554615    0.0\n",
       "3      0.000107  0.726782  0.189395  0.566277  0.182504  0.560934    0.0\n",
       "4      0.000105  0.818264  0.189390  0.566283  0.181135  0.566440    0.0\n",
       "...         ...       ...       ...       ...       ...       ...    ...\n",
       "10512  0.000198  0.744103  0.189470  0.566452  0.500894  0.630330    0.5\n",
       "10513  0.000357  0.771607  0.189456  0.566438  0.500887  0.641935    0.5\n",
       "10514  0.000224  0.751594  0.189439  0.566421  0.500869  0.653895    0.5\n",
       "10515  0.000262  0.743195  0.189419  0.566403  0.500838  0.666199    0.5\n",
       "10516  0.000000  0.500004  0.189397  0.566382  0.500795  0.678836    0.5\n",
       "\n",
       "[60560 rows x 7 columns]"
      ]
     },
     "execution_count": 66,
     "metadata": {},
     "output_type": "execute_result"
    }
   ],
   "source": [
    "labels = balanced.label.to_numpy()\n",
    "balanced = balanced.drop('label', axis = 1)\n",
    "functions.normalize(df)"
   ]
  },
  {
   "cell_type": "code",
   "execution_count": 67,
   "metadata": {},
   "outputs": [],
   "source": [
    "from sklearn.model_selection import train_test_split\n",
    "X_train, X_test, y_train, y_test = train_test_split(balanced, labels, test_size=0.7, random_state=42)"
   ]
  },
  {
   "cell_type": "code",
   "execution_count": 68,
   "metadata": {},
   "outputs": [],
   "source": [
    "from sklearn.cluster import KMeans\n",
    "kmeans = KMeans(n_clusters=10, random_state=0, n_init=\"auto\").fit(X_train)"
   ]
  },
  {
   "cell_type": "code",
   "execution_count": 69,
   "metadata": {},
   "outputs": [],
   "source": [
    "predicted = kmeans.predict(X_test)"
   ]
  },
  {
   "cell_type": "code",
   "execution_count": 70,
   "metadata": {},
   "outputs": [
    {
     "name": "stdout",
     "output_type": "stream",
     "text": [
      "task: 2, clusters: 10\n",
      "╒═════════╤══════════════════════════════════╤══════════════════╕\n",
      "│ cluster │ label distribution               │ label percentage │\n",
      "├─────────┼──────────────────────────────────┼──────────────────┤\n",
      "│ 0       │ {0: 1912, 1: 194, 2: 1894, 3: 0} │ 48%              │\n",
      "├─────────┼──────────────────────────────────┼──────────────────┤\n",
      "│ 1       │ {0: 942, 1: 89, 2: 921, 3: 0}    │ 48%              │\n",
      "├─────────┼──────────────────────────────────┼──────────────────┤\n",
      "│ 2       │ {0: 935, 1: 94, 2: 1001, 3: 0}   │ 49%              │\n",
      "├─────────┼──────────────────────────────────┼──────────────────┤\n",
      "│ 3       │ {0: 1386, 1: 147, 2: 1443, 3: 0} │ 48%              │\n",
      "├─────────┼──────────────────────────────────┼──────────────────┤\n",
      "│ 7       │ {0: 74, 1: 4, 2: 73, 3: 0}       │ 49%              │\n",
      "├─────────┼──────────────────────────────────┼──────────────────┤\n",
      "│ 8       │ {0: 705, 1: 75, 2: 686, 3: 0}    │ 48%              │\n",
      "├─────────┼──────────────────────────────────┼──────────────────┤\n",
      "│ 9       │ {0: 1232, 1: 118, 2: 1178, 3: 0} │ 49%              │\n",
      "╘═════════╧══════════════════════════════════╧══════════════════╛\n"
     ]
    }
   ],
   "source": [
    "from tabulate import tabulate\n",
    "cluster_numbers = [10]\n",
    "\n",
    "clusters={}\n",
    "for cluster_number in cluster_numbers:\n",
    "    for i in range(0, cluster_number):\n",
    "        clusters[i] = {0:0, 1:0, 2:0, 3:0}\n",
    "\n",
    "for i, cluster in enumerate(predicted):\n",
    "    clusters[cluster][labels[i]] += 1\n",
    "\n",
    "table = [['cluster', 'label distribution', 'label percentage']]\n",
    "print('task: %s, clusters: %i'%('2',10))\n",
    "for i in clusters:\n",
    "    perc = round(100* (max(clusters[i].values())/ sum(clusters[i].values())))\n",
    "    if (max(clusters[i].values()) > 50):\n",
    "        table.append([i, clusters[i], str(perc)+ '%'])\n",
    "print(tabulate(table, tablefmt='fancy_grid'))"
   ]
  },
  {
   "cell_type": "code",
   "execution_count": 71,
   "metadata": {},
   "outputs": [],
   "source": [
    "knn = KNeighborsClassifier(n_neighbors=3)"
   ]
  },
  {
   "cell_type": "code",
   "execution_count": 72,
   "metadata": {},
   "outputs": [],
   "source": [
    "model = knn.fit(X_train,y_train)"
   ]
  },
  {
   "cell_type": "code",
   "execution_count": 73,
   "metadata": {},
   "outputs": [],
   "source": [
    "y_pred = model.predict(X_test)"
   ]
  },
  {
   "cell_type": "code",
   "execution_count": 74,
   "metadata": {},
   "outputs": [
    {
     "name": "stdout",
     "output_type": "stream",
     "text": [
      " f1:  1.0\n",
      "              precision    recall  f1-score   support\n",
      "\n",
      "         0.0       0.55      0.65      0.59      5027\n",
      "         1.0       0.59      0.57      0.58      5065\n",
      "         2.0       0.81      0.69      0.75      5108\n",
      "\n",
      "    accuracy                           0.64     15200\n",
      "   macro avg       0.65      0.64      0.64     15200\n",
      "weighted avg       0.65      0.64      0.64     15200\n",
      "\n",
      "0.4548969705160869\n"
     ]
    },
    {
     "data": {
      "text/plain": [
       "Text(0.5, 1.0, 'data distribution according to proposed dataset')"
      ]
     },
     "execution_count": 74,
     "metadata": {},
     "output_type": "execute_result"
    },
    {
     "data": {
      "image/png": "[encoded data removed]",
      "text/plain": [
       "<Figure size 640x480 with 2 Axes>"
      ]
     },
     "metadata": {},
     "output_type": "display_data"
    }
   ],
   "source": [
    "from sklearn.metrics import classification_report, confusion_matrix, accuracy_score, cohen_kappa_score\n",
    "import matplotlib.pyplot as plt\n",
    "import seaborn as sns\n",
    "\n",
    "print(\" f1: \", accuracy_score(y_test, y_test))\n",
    "\n",
    "print(classification_report(y_test, y_pred))\n",
    "print(cohen_kappa_score(y_test, y_pred))\n",
    "plt.clf()\n",
    "ax = sns.heatmap(confusion_matrix(y_test, y_pred), annot=True, cmap='Blues')\n",
    "\n",
    "ax.set_ylabel('\\nPredicted Values')\n",
    "ax.set_xlabel('Actual Values ')\n",
    "ax.set_title('data distribution according to proposed dataset')"
   ]
  },
  {
   "cell_type": "code",
   "execution_count": null,
   "metadata": {},
   "outputs": [],
   "source": []
  }
 ],
 "metadata": {
  "kernelspec": {
   "display_name": "base",
   "language": "python",
   "name": "python3"
  },
  "language_info": {
   "codemirror_mode": {
    "name": "ipython",
    "version": 3
   },
   "file_extension": ".py",
   "mimetype": "text/x-python",
   "name": "python",
   "nbconvert_exporter": "python",
   "pygments_lexer": "ipython3",
   "version": "3.8.13"
  },
  "orig_nbformat": 4
 },
 "nbformat": 4,
 "nbformat_minor": 2
}

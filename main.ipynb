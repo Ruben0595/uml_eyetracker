{
 "cells": [
  {
   "cell_type": "code",
   "execution_count": 924,
   "metadata": {},
   "outputs": [],
   "source": [
    "import scipy.io\n",
    "import pandas as pd\n",
    "import numpy as np\n",
    "file = 'PrIdx_18_TrIdx_4_Lbr_6'\n",
    "task = 'Tea_Making'\n",
    "mat = scipy.io.loadmat('./data/Extracted_Data/%s/Labels/%s.mat'%(task,file))"
   ]
  },
  {
   "cell_type": "code",
   "execution_count": 925,
   "metadata": {},
   "outputs": [
    {
     "data": {
      "text/plain": [
       "23519"
      ]
     },
     "execution_count": 925,
     "metadata": {},
     "output_type": "execute_result"
    }
   ],
   "source": [
    "labels = np.array(mat['LabelData']['Labels'][0])[0][:,0]\n",
    "labels = labels[labels != 0]\n",
    "labels = labels[labels != 4]\n",
    "len(labels)"
   ]
  },
  {
   "cell_type": "code",
   "execution_count": 926,
   "metadata": {},
   "outputs": [],
   "source": [
    "frames = 1      #select frames or timestamp\n",
    "start = []\n",
    "end = []\n",
    "label = []\n",
    "try:\n",
    "    for i in mat['LabelData'][0][0][3][0]:\n",
    "        start.append(i[1][0][0])\n",
    "        end.append(i[1][0][1])\n",
    "        label.append(i[2][0][0])\n",
    "except:\n",
    "    for i in mat['LabelData'][0][0][2][0]:\n",
    "        start.append(i[1][0][0])\n",
    "        end.append(i[1][0][1])\n",
    "        label.append(i[2][0][0])\n"
   ]
  },
  {
   "cell_type": "code",
   "execution_count": 927,
   "metadata": {},
   "outputs": [
    {
     "data": {
      "text/plain": [
       "array([0, 0, 0, ..., 0, 0, 0], dtype=uint8)"
      ]
     },
     "execution_count": 927,
     "metadata": {},
     "output_type": "execute_result"
    }
   ],
   "source": [
    "np.array(mat['LabelData']['Labels'][0])[0][:,0]"
   ]
  },
  {
   "cell_type": "code",
   "execution_count": 928,
   "metadata": {},
   "outputs": [],
   "source": [
    "data = {'start' : start, 'end' : end, 'label' : label}"
   ]
  },
  {
   "cell_type": "code",
   "execution_count": 929,
   "metadata": {},
   "outputs": [],
   "source": [
    "df = pd.DataFrame(data, dtype='uint32')"
   ]
  },
  {
   "cell_type": "code",
   "execution_count": 930,
   "metadata": {},
   "outputs": [],
   "source": [
    "df['frames'] = df.end - df.start"
   ]
  },
  {
   "cell_type": "code",
   "execution_count": 931,
   "metadata": {},
   "outputs": [],
   "source": [
    "fixation = df.loc[df['label'] == 1]\n",
    "gaze_f = df.loc[df['label'] == 5]"
   ]
  },
  {
   "cell_type": "code",
   "execution_count": 932,
   "metadata": {},
   "outputs": [],
   "source": [
    "fixation = fixation.sort_values(axis = 0, by = 'frames', ascending= False)\n",
    "gaze_f = gaze_f.sort_values(axis = 0, by = 'frames', ascending= False)"
   ]
  },
  {
   "cell_type": "code",
   "execution_count": 933,
   "metadata": {},
   "outputs": [
    {
     "data": {
      "text/html": [
       "<div>\n",
       "<style scoped>\n",
       "    .dataframe tbody tr th:only-of-type {\n",
       "        vertical-align: middle;\n",
       "    }\n",
       "\n",
       "    .dataframe tbody tr th {\n",
       "        vertical-align: top;\n",
       "    }\n",
       "\n",
       "    .dataframe thead th {\n",
       "        text-align: right;\n",
       "    }\n",
       "</style>\n",
       "<table border=\"1\" class=\"dataframe\">\n",
       "  <thead>\n",
       "    <tr style=\"text-align: right;\">\n",
       "      <th></th>\n",
       "      <th>start</th>\n",
       "      <th>end</th>\n",
       "      <th>label</th>\n",
       "      <th>frames</th>\n",
       "    </tr>\n",
       "  </thead>\n",
       "  <tbody>\n",
       "    <tr>\n",
       "      <th>245</th>\n",
       "      <td>43819</td>\n",
       "      <td>44949</td>\n",
       "      <td>5</td>\n",
       "      <td>1130</td>\n",
       "    </tr>\n",
       "    <tr>\n",
       "      <th>193</th>\n",
       "      <td>36428</td>\n",
       "      <td>37227</td>\n",
       "      <td>5</td>\n",
       "      <td>799</td>\n",
       "    </tr>\n",
       "    <tr>\n",
       "      <th>180</th>\n",
       "      <td>34295</td>\n",
       "      <td>34948</td>\n",
       "      <td>5</td>\n",
       "      <td>653</td>\n",
       "    </tr>\n",
       "    <tr>\n",
       "      <th>318</th>\n",
       "      <td>49054</td>\n",
       "      <td>49688</td>\n",
       "      <td>5</td>\n",
       "      <td>634</td>\n",
       "    </tr>\n",
       "    <tr>\n",
       "      <th>182</th>\n",
       "      <td>34961</td>\n",
       "      <td>35583</td>\n",
       "      <td>5</td>\n",
       "      <td>622</td>\n",
       "    </tr>\n",
       "    <tr>\n",
       "      <th>...</th>\n",
       "      <td>...</td>\n",
       "      <td>...</td>\n",
       "      <td>...</td>\n",
       "      <td>...</td>\n",
       "    </tr>\n",
       "    <tr>\n",
       "      <th>20</th>\n",
       "      <td>22506</td>\n",
       "      <td>22540</td>\n",
       "      <td>5</td>\n",
       "      <td>34</td>\n",
       "    </tr>\n",
       "    <tr>\n",
       "      <th>319</th>\n",
       "      <td>49749</td>\n",
       "      <td>49778</td>\n",
       "      <td>5</td>\n",
       "      <td>29</td>\n",
       "    </tr>\n",
       "    <tr>\n",
       "      <th>57</th>\n",
       "      <td>24531</td>\n",
       "      <td>24558</td>\n",
       "      <td>5</td>\n",
       "      <td>27</td>\n",
       "    </tr>\n",
       "    <tr>\n",
       "      <th>321</th>\n",
       "      <td>49796</td>\n",
       "      <td>49804</td>\n",
       "      <td>5</td>\n",
       "      <td>8</td>\n",
       "    </tr>\n",
       "    <tr>\n",
       "      <th>323</th>\n",
       "      <td>49813</td>\n",
       "      <td>49820</td>\n",
       "      <td>5</td>\n",
       "      <td>7</td>\n",
       "    </tr>\n",
       "  </tbody>\n",
       "</table>\n",
       "<p>66 rows × 4 columns</p>\n",
       "</div>"
      ],
      "text/plain": [
       "     start    end  label  frames\n",
       "245  43819  44949      5    1130\n",
       "193  36428  37227      5     799\n",
       "180  34295  34948      5     653\n",
       "318  49054  49688      5     634\n",
       "182  34961  35583      5     622\n",
       "..     ...    ...    ...     ...\n",
       "20   22506  22540      5      34\n",
       "319  49749  49778      5      29\n",
       "57   24531  24558      5      27\n",
       "321  49796  49804      5       8\n",
       "323  49813  49820      5       7\n",
       "\n",
       "[66 rows x 4 columns]"
      ]
     },
     "execution_count": 933,
     "metadata": {},
     "output_type": "execute_result"
    }
   ],
   "source": [
    "gaze_f"
   ]
  },
  {
   "cell_type": "code",
   "execution_count": 934,
   "metadata": {},
   "outputs": [],
   "source": [
    "gaze_f.reset_index(inplace = True)"
   ]
  },
  {
   "cell_type": "code",
   "execution_count": 935,
   "metadata": {},
   "outputs": [
    {
     "name": "stdout",
     "output_type": "stream",
     "text": [
      "10535\n"
     ]
    }
   ],
   "source": [
    "print(gaze_f.frames.sum())"
   ]
  },
  {
   "cell_type": "code",
   "execution_count": 946,
   "metadata": {},
   "outputs": [
    {
     "name": "stdout",
     "output_type": "stream",
     "text": [
      "9728 46\n"
     ]
    }
   ],
   "source": [
    "total_frames = 0\n",
    "iterator = 0\n",
    "for frame in gaze_f.frames:\n",
    "    if total_frames < 9700:\n",
    "        total_frames += frame\n",
    "        iterator += 1\n",
    "    \n",
    "print(total_frames, iterator)\n"
   ]
  }
 ],
 "metadata": {
  "kernelspec": {
   "display_name": "Python 3.8.13 ('base')",
   "language": "python",
   "name": "python3"
  },
  "language_info": {
   "codemirror_mode": {
    "name": "ipython",
    "version": 3
   },
   "file_extension": ".py",
   "mimetype": "text/x-python",
   "name": "python",
   "nbconvert_exporter": "python",
   "pygments_lexer": "ipython3",
   "version": "3.8.13"
  },
  "orig_nbformat": 4,
  "vscode": {
   "interpreter": {
    "hash": "edc1bf21e69f891261a36943f5833d87ed8060cb2112624a348d6396193c49a8"
   }
  }
 },
 "nbformat": 4,
 "nbformat_minor": 2
}

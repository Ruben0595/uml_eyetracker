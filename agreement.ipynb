{
 "cells": [
  {
   "cell_type": "code",
   "execution_count": 12,
   "metadata": {},
   "outputs": [],
   "source": [
    "import pandas as pd\n",
    "import matplotlib.pyplot as plt\n",
    "import os\n",
    "import scipy\n",
    "import numpy as np"
   ]
  },
  {
   "cell_type": "code",
   "execution_count": 13,
   "metadata": {},
   "outputs": [],
   "source": [
    "participants = range(0,23)\n",
    "all = False\n",
    "tasks = ['Ball_Catch'] #, 'Indoor_Walk', 'Tea_Making', 'Visual_Search']"
   ]
  },
  {
   "cell_type": "code",
   "execution_count": 14,
   "metadata": {},
   "outputs": [
    {
     "name": "stdout",
     "output_type": "stream",
     "text": [
      "PrIdx_1_TrIdx_2_Lbr_2.mat\n",
      "PrIdx_1_TrIdx_2_Lbr_1.mat\n",
      "PrIdx_1_TrIdx_2_Lbr_5.mat\n",
      "PrIdx_1_TrIdx_2_Lbr_6.mat\n",
      "PrIdx_2_TrIdx_2_Lbr_5.mat\n",
      "PrIdx_2_TrIdx_2_Lbr_6.mat\n",
      "PrIdx_6_TrIdx_2_Lbr_6.mat\n",
      "PrIdx_2_TrIdx_2_Lbr_2.mat\n",
      "PrIdx_3_TrIdx_2_Lbr_6.mat\n",
      "PrIdx_6_TrIdx_2_Lbr_5.mat\n",
      "PrIdx_19_TrIdx_2_Lbr_5.mat\n",
      "PrIdx_2_TrIdx_2_Lbr_1.mat\n",
      "PrIdx_9_TrIdx_2_Lbr_1.mat\n",
      "PrIdx_17_TrIdx_2_Lbr_6.mat\n",
      "PrIdx_22_TrIdx_2_Lbr_3.mat\n",
      "PrIdx_8_TrIdx_2_Lbr_5.mat\n",
      "PrIdx_12_TrIdx_2_Lbr_6.mat\n",
      "PrIdx_16_TrIdx_2_Lbr_6.mat\n"
     ]
    }
   ],
   "source": [
    "agree_list = []\n",
    "p_dict = {}\n",
    "keeplist = []\n",
    "\n",
    "for task in tasks:\n",
    "    path = './data/Extracted_Data/%s/Labels/'%task\n",
    "    for filename in os.listdir(path):\n",
    "        print(filename)\n",
    "        participant = filename.split('_')[1]\n",
    "        mat = scipy.io.loadmat('./data/Extracted_Data/%s/Labels/%s'%(task, filename))\n",
    "        label = []\n",
    "        label = np.array(mat['LabelData']['Labels'][0])[0][:,0]\n",
    "        label = label.tolist()\n",
    "\n",
    "        if participant not in p_dict:\n",
    "            p_dict[participant] = label\n",
    "        \n",
    "        else:\n",
    "            keeplist.append(participant)\n",
    "\n",
    "        for x in range(0,len(label)):\n",
    "            if p_dict[participant][x] != label[x]:\n",
    "                p_dict[participant][x] = 0\n"
   ]
  },
  {
   "cell_type": "code",
   "execution_count": 22,
   "metadata": {},
   "outputs": [
    {
     "data": {
      "text/plain": [
       "['1', '1', '1', '2', '2', '6', '2']"
      ]
     },
     "execution_count": 22,
     "metadata": {},
     "output_type": "execute_result"
    }
   ],
   "source": [
    "keeplist"
   ]
  },
  {
   "cell_type": "code",
   "execution_count": 16,
   "metadata": {},
   "outputs": [],
   "source": [
    "keep_dict = {}\n",
    "for i in keeplist:\n",
    "    keep_dict[i] = p_dict[i]"
   ]
  },
  {
   "cell_type": "code",
   "execution_count": 17,
   "metadata": {},
   "outputs": [
    {
     "data": {
      "text/plain": [
       "dict_keys(['1', '2', '6'])"
      ]
     },
     "execution_count": 17,
     "metadata": {},
     "output_type": "execute_result"
    }
   ],
   "source": [
    "keep_dict.keys()"
   ]
  },
  {
   "cell_type": "code",
   "execution_count": 18,
   "metadata": {},
   "outputs": [],
   "source": [
    "for participant in keep_dict.keys():\n",
    "    with open('./generated_data/%s/p_%s.txt'%(task, participant), 'w') as f:\n",
    "        f.write(str(keep_dict[participant]))"
   ]
  },
  {
   "cell_type": "code",
   "execution_count": 21,
   "metadata": {},
   "outputs": [
    {
     "data": {
      "text/plain": [
       "0.7966930715897301"
      ]
     },
     "execution_count": 21,
     "metadata": {},
     "output_type": "execute_result"
    }
   ],
   "source": [
    "keep_dict['6'].count(0)/len(keep_dict['6'])"
   ]
  }
 ],
 "metadata": {
  "kernelspec": {
   "display_name": "Python 3.8.13 ('eye_movement')",
   "language": "python",
   "name": "python3"
  },
  "language_info": {
   "codemirror_mode": {
    "name": "ipython",
    "version": 3
   },
   "file_extension": ".py",
   "mimetype": "text/x-python",
   "name": "python",
   "nbconvert_exporter": "python",
   "pygments_lexer": "ipython3",
   "version": "3.8.13 (default, Oct 19 2022, 17:52:09) \n[Clang 12.0.0 ]"
  },
  "orig_nbformat": 4,
  "vscode": {
   "interpreter": {
    "hash": "08e1f31826e6e87a110bd470be0d531420b8587399cc6eccead10679433faceb"
   }
  }
 },
 "nbformat": 4,
 "nbformat_minor": 2
}
